{
 "cells": [
  {
   "cell_type": "code",
   "execution_count": 2,
   "metadata": {},
   "outputs": [],
   "source": [
    "#In this file, Optuna automatically optimizes the fit_intercept hyperparameter of a linear regression model to\n",
    "#minimize the RMSE (Root Mean Squared Error) on the test dataset."
   ]
  },
  {
   "cell_type": "code",
   "execution_count": 1,
   "metadata": {
    "editable": true,
    "slideshow": {
     "slide_type": ""
    },
    "tags": []
   },
   "outputs": [],
   "source": [
    "%pip install optuna scikit-learn"
   ]
  },
  {
   "cell_type": "code",
   "execution_count": 17,
   "metadata": {
    "editable": true,
    "slideshow": {
     "slide_type": ""
    },
    "tags": []
   },
   "outputs": [],
   "source": [
    "import optuna\n",
    "import numpy as np\n",
    "from sklearn.datasets import load_diabetes\n",
    "from sklearn.model_selection import train_test_split\n",
    "from sklearn.linear_model import LinearRegression\n",
    "from sklearn.metrics import mean_squared_error"
   ]
  },
  {
   "cell_type": "code",
   "execution_count": 18,
   "metadata": {
    "editable": true,
    "slideshow": {
     "slide_type": ""
    },
    "tags": []
   },
   "outputs": [],
   "source": [
    "#Data loading\n",
    "diabetes = load_diabetes()\n",
    "X = diabetes.data\n",
    "y = diabetes.target"
   ]
  },
  {
   "cell_type": "code",
   "execution_count": 28,
   "metadata": {},
   "outputs": [],
   "source": [
    "#Test and Train datasets preparation\n",
    "X_train, X_test, y_train, y_test = train_test_split(X, y, test_size=0.2, random_state=42)"
   ]
  },
  {
   "cell_type": "code",
   "execution_count": 29,
   "metadata": {},
   "outputs": [],
   "source": [
    "# 3. Define the objective function to optimize hyperparameters\n",
    "def objective(trial):\n",
    "    #Using optuna to specify fit_intercept in model as true or false\n",
    "    fit_intercept = trial.suggest_categorical('fit_intercept', [True, False])\n",
    "\n",
    "    #Create model with suggestet fit_intercept\n",
    "    model = LinearRegression(fit_intercept=fit_intercept)\n",
    "\n",
    "    #Train model\n",
    "    model.fit(X_train, y_train)\n",
    "\n",
    "    #Make predictions on the test set\n",
    "    y_pred = model.predict(X_test)\n",
    "\n",
    "    #Calculate the Root Mean Squared Error (RMSE) as the evaluation metric\n",
    "    rmse = np.sqrt(mean_squared_error(y_test, y_pred))\n",
    "\n",
    "    return rmse"
   ]
  },
  {
   "cell_type": "code",
   "execution_count": 30,
   "metadata": {
    "editable": true,
    "slideshow": {
     "slide_type": ""
    },
    "tags": []
   },
   "outputs": [
    {
     "name": "stderr",
     "output_type": "stream",
     "text": [
      "[I 2024-12-23 19:02:41,380] A new study created in memory with name: no-name-c668acac-2d08-4a2c-86e2-987fc76beb48\n",
      "[I 2024-12-23 19:02:41,411] Trial 0 finished with value: 53.85344583676593 and parameters: {'fit_intercept': True}. Best is trial 0 with value: 53.85344583676593.\n",
      "[I 2024-12-23 19:02:41,417] Trial 1 finished with value: 53.85344583676593 and parameters: {'fit_intercept': True}. Best is trial 0 with value: 53.85344583676593.\n",
      "[I 2024-12-23 19:02:41,424] Trial 2 finished with value: 167.21769319292116 and parameters: {'fit_intercept': False}. Best is trial 0 with value: 53.85344583676593.\n",
      "[I 2024-12-23 19:02:41,427] Trial 3 finished with value: 167.21769319292116 and parameters: {'fit_intercept': False}. Best is trial 0 with value: 53.85344583676593.\n",
      "[I 2024-12-23 19:02:41,436] Trial 4 finished with value: 53.85344583676593 and parameters: {'fit_intercept': True}. Best is trial 0 with value: 53.85344583676593.\n",
      "[I 2024-12-23 19:02:41,440] Trial 5 finished with value: 167.21769319292116 and parameters: {'fit_intercept': False}. Best is trial 0 with value: 53.85344583676593.\n",
      "[I 2024-12-23 19:02:41,443] Trial 6 finished with value: 53.85344583676593 and parameters: {'fit_intercept': True}. Best is trial 0 with value: 53.85344583676593.\n",
      "[I 2024-12-23 19:02:41,446] Trial 7 finished with value: 53.85344583676593 and parameters: {'fit_intercept': True}. Best is trial 0 with value: 53.85344583676593.\n",
      "[I 2024-12-23 19:02:41,447] Trial 8 finished with value: 167.21769319292116 and parameters: {'fit_intercept': False}. Best is trial 0 with value: 53.85344583676593.\n",
      "[I 2024-12-23 19:02:41,452] Trial 9 finished with value: 53.85344583676593 and parameters: {'fit_intercept': True}. Best is trial 0 with value: 53.85344583676593.\n"
     ]
    }
   ],
   "source": [
    "# 4. Create an Optuna study and optimize the objective function\n",
    "study = optuna.create_study(direction=\"minimize\")  # Minimize RMSE\n",
    "study.optimize(objective, n_trials=10)  # Perform 10 trials"
   ]
  },
  {
   "cell_type": "code",
   "execution_count": 31,
   "metadata": {},
   "outputs": [
    {
     "name": "stdout",
     "output_type": "stream",
     "text": [
      "Best trial:\n",
      "  RMSE: 53.85344583676593\n",
      "  Best parameters: {'fit_intercept': True}\n"
     ]
    }
   ],
   "source": [
    "# 5. Print the best results (lowest RMSE and the best hyperparameters)\n",
    "print(\"Best trial:\")\n",
    "print(f\"  RMSE: {study.best_value}\")\n",
    "print(f\"  Best parameters: {study.best_params}\")"
   ]
  },
  {
   "cell_type": "code",
   "execution_count": null,
   "metadata": {},
   "outputs": [],
   "source": []
  }
 ],
 "metadata": {
  "kernelspec": {
   "display_name": "Python 3 (ipykernel)",
   "language": "python",
   "name": "python3"
  },
  "language_info": {
   "codemirror_mode": {
    "name": "ipython",
    "version": 3
   },
   "file_extension": ".py",
   "mimetype": "text/x-python",
   "name": "python",
   "nbconvert_exporter": "python",
   "pygments_lexer": "ipython3",
   "version": "3.11.3"
  }
 },
 "nbformat": 4,
 "nbformat_minor": 4
}
